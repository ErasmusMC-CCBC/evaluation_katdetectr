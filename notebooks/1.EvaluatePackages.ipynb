{
 "cells": [
  {
   "attachments": {},
   "cell_type": "markdown",
   "metadata": {},
   "source": [
    "# Evaluating the performance of the kataegis detection packages \n",
    "\n",
    "This Jupyter notebook will reproduce the evaluation of kataegis detection packages as detailed within our manuscript."
   ]
  },
  {
   "attachments": {},
   "cell_type": "markdown",
   "metadata": {},
   "source": [
    "## Loading dependencies\n",
    "\n",
    "First, we load the dependencies for this notebook."
   ]
  },
  {
   "cell_type": "code",
   "execution_count": null,
   "metadata": {
    "vscode": {
     "languageId": "r"
    }
   },
   "outputs": [],
   "source": [
    "library(katdetectr)\n",
    "library(zen4R)\n",
    "library(futile.logger)\n",
    "library(dplyr)\n",
    "library(VariantAnnotation)\n",
    "library(SeqKat)\n",
    "library(pbapply)\n",
    "\n",
    "# Set the seed for reproducibility\n",
    "set.seed(1)"
   ]
  },
  {
   "attachments": {},
   "cell_type": "markdown",
   "metadata": {},
   "source": [
    "## Importing Alexandrov et al. (2013) data and generating the synthetic datasets\n",
    "\n",
    "### Reproducibility\n",
    "\n",
    "All previously generated input and output for reproduction of the evaluation of kataegis detection packages as detailed within our manuscript were deposited on [Zenodo](https://doi.org/10.5281/zenodo.6810477) to allow re-generating the presented figures and tables. This will retrieve all the RData objects using in the latter part of this notebook."
   ]
  },
  {
   "cell_type": "code",
   "execution_count": 8,
   "metadata": {
    "vscode": {
     "languageId": "r"
    }
   },
   "outputs": [],
   "source": [
    "# Increase the timeout (due to some large files).\n",
    "options(timeout=5000)\n",
    "\n",
    "# Download the required files into the data/ folder (~1GB).\n",
    "zen4R::download_zenodo(doi = \"10.5281/zenodo.6810477\", path = 'data/', quiet = FALSE, overwrite = FALSE)"
   ]
  },
  {
   "attachments": {},
   "cell_type": "markdown",
   "metadata": {},
   "source": [
    "\n",
    "### Fresh run\n",
    "\n",
    "#### Importing somatic variants and kataegis calls from Alexandrov et al. (2013)\n",
    "\n",
    "The following code will download and pre-process the somatic variants and kataegis calls from Alexandrov et al. (2013). This will generate an RData object within the specified `path`."
   ]
  },
  {
   "cell_type": "code",
   "execution_count": null,
   "metadata": {
    "vscode": {
     "languageId": "r"
    }
   },
   "outputs": [],
   "source": [
    "source(\"R/1.importAndProcess_Alexandrov.R\")\n",
    "importAlexandrovData(path = \"data/\")"
   ]
  },
  {
   "attachments": {},
   "cell_type": "markdown",
   "metadata": {},
   "source": [
    "### Generating synthetic datasets\n",
    "\n",
    "The following code will generate a set of xxx synthetic samples (hg19) with varying degrees of kataegis events. This will generate an RData object within the specified `path`."
   ]
  },
  {
   "cell_type": "code",
   "execution_count": null,
   "metadata": {
    "vscode": {
     "languageId": "r"
    }
   },
   "outputs": [],
   "source": [
    "source(\"R/2.importAndProcess_Synthetic.R\")\n",
    "generateSyntheticData(path = \"data/\")"
   ]
  },
  {
   "attachments": {},
   "cell_type": "markdown",
   "metadata": {},
   "source": [
    "## Performing the various kataegis-detection packages\n",
    "\n",
    "Next, we will perform the various R-based kataegis-detection packages (katdetectr, SeqKat, maftools, kataegis and ClusteredMutations) and python-based (SigProfilerClusters) on the same datasets (Alexandrov et al. and the synthetic dataset). This will generate RData objects containing the results within `data/`."
   ]
  },
  {
   "cell_type": "code",
   "execution_count": null,
   "metadata": {
    "vscode": {
     "languageId": "r"
    }
   },
   "outputs": [],
   "source": [
    "# Run the R-based tools on the Alexandrov et al. and synthetic datasets.\n",
    "source(\"R/3.performRPackages.R\")\n",
    "\n",
    "runTools_Alexandrov(data = \"data/alexandrov_data_processed.RData\"\n",
    "runTools_Synthetic(data = \"data/synthetic_data_processed.RData\")"
   ]
  },
  {
   "cell_type": "code",
   "execution_count": null,
   "metadata": {
    "vscode": {
     "languageId": "r"
    }
   },
   "outputs": [],
   "source": [
    "# Run the python-based SigProfiler on the Alexandrov et al. and synthetic datasets.\n",
    "source(\"R/4.performSigProfiler.R\")\n",
    "runSigProfiler(dataAlexandrov = \"data/alexandrov_data_processed.RData\", dataSynthetic = \"data/synthetic_data_processed.RData\")"
   ]
  }
 ],
 "metadata": {
  "kernelspec": {
   "display_name": "R",
   "language": "R",
   "name": "ir"
  },
  "language_info": {
   "codemirror_mode": "r",
   "file_extension": ".r",
   "mimetype": "text/x-r-source",
   "name": "R",
   "pygments_lexer": "r",
   "version": "4.2.3"
  },
  "orig_nbformat": 4
 },
 "nbformat": 4,
 "nbformat_minor": 2
}
