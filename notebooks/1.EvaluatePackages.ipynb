{
 "cells": [
  {
   "attachments": {},
   "cell_type": "markdown",
   "metadata": {},
   "source": [
    "# Evaluating the performance of the kataegis detection packages \n",
    "\n",
    "This Jupyter notebook will reproduce the evaluation of kataegis detection packages as detailed within our manuscript."
   ]
  },
  {
   "attachments": {},
   "cell_type": "markdown",
   "metadata": {},
   "source": [
    "## Loading dependencies\n",
    "\n",
    "First, we load the dependencies for this notebook."
   ]
  },
  {
   "cell_type": "code",
   "execution_count": 1,
   "metadata": {
    "vscode": {
     "languageId": "r"
    }
   },
   "outputs": [
    {
     "name": "stderr",
     "output_type": "stream",
     "text": [
      "\n",
      "Attache Paket: 'dplyr'\n",
      "\n",
      "\n",
      "Die folgenden Objekte sind maskiert von 'package:stats':\n",
      "\n",
      "    filter, lag\n",
      "\n",
      "\n",
      "Die folgenden Objekte sind maskiert von 'package:base':\n",
      "\n",
      "    intersect, setdiff, setequal, union\n",
      "\n",
      "\n",
      "Lade n\"otiges Paket: BiocGenerics\n",
      "\n",
      "\n",
      "Attache Paket: 'BiocGenerics'\n",
      "\n",
      "\n",
      "Die folgenden Objekte sind maskiert von 'package:dplyr':\n",
      "\n",
      "    combine, intersect, setdiff, union\n",
      "\n",
      "\n",
      "Die folgenden Objekte sind maskiert von 'package:stats':\n",
      "\n",
      "    IQR, mad, sd, var, xtabs\n",
      "\n",
      "\n",
      "Die folgenden Objekte sind maskiert von 'package:base':\n",
      "\n",
      "    Filter, Find, Map, Position, Reduce, anyDuplicated, aperm, append,\n",
      "    as.data.frame, basename, cbind, colnames, dirname, do.call,\n",
      "    duplicated, eval, evalq, get, grep, grepl, intersect, is.unsorted,\n",
      "    lapply, mapply, match, mget, order, paste, pmax, pmax.int, pmin,\n",
      "    pmin.int, rank, rbind, rownames, sapply, setdiff, sort, table,\n",
      "    tapply, union, unique, unsplit, which.max, which.min\n",
      "\n",
      "\n",
      "Lade n\"otiges Paket: MatrixGenerics\n",
      "\n",
      "Lade n\"otiges Paket: matrixStats\n",
      "\n",
      "\n",
      "Attache Paket: 'matrixStats'\n",
      "\n",
      "\n",
      "Das folgende Objekt ist maskiert 'package:dplyr':\n",
      "\n",
      "    count\n",
      "\n",
      "\n",
      "\n",
      "Attache Paket: 'MatrixGenerics'\n",
      "\n",
      "\n",
      "Die folgenden Objekte sind maskiert von 'package:matrixStats':\n",
      "\n",
      "    colAlls, colAnyNAs, colAnys, colAvgsPerRowSet, colCollapse,\n",
      "    colCounts, colCummaxs, colCummins, colCumprods, colCumsums,\n",
      "    colDiffs, colIQRDiffs, colIQRs, colLogSumExps, colMadDiffs,\n",
      "    colMads, colMaxs, colMeans2, colMedians, colMins, colOrderStats,\n",
      "    colProds, colQuantiles, colRanges, colRanks, colSdDiffs, colSds,\n",
      "    colSums2, colTabulates, colVarDiffs, colVars, colWeightedMads,\n",
      "    colWeightedMeans, colWeightedMedians, colWeightedSds,\n",
      "    colWeightedVars, rowAlls, rowAnyNAs, rowAnys, rowAvgsPerColSet,\n",
      "    rowCollapse, rowCounts, rowCummaxs, rowCummins, rowCumprods,\n",
      "    rowCumsums, rowDiffs, rowIQRDiffs, rowIQRs, rowLogSumExps,\n",
      "    rowMadDiffs, rowMads, rowMaxs, rowMeans2, rowMedians, rowMins,\n",
      "    rowOrderStats, rowProds, rowQuantiles, rowRanges, rowRanks,\n",
      "    rowSdDiffs, rowSds, rowSums2, rowTabulates, rowVarDiffs, rowVars,\n",
      "    rowWeightedMads, rowWeightedMeans, rowWeightedMedians,\n",
      "    rowWeightedSds, rowWeightedVars\n",
      "\n",
      "\n",
      "Lade n\"otiges Paket: GenomeInfoDb\n",
      "\n",
      "Lade n\"otiges Paket: S4Vectors\n",
      "\n",
      "Lade n\"otiges Paket: stats4\n",
      "\n",
      "\n",
      "Attache Paket: 'S4Vectors'\n",
      "\n",
      "\n",
      "Die folgenden Objekte sind maskiert von 'package:dplyr':\n",
      "\n",
      "    first, rename\n",
      "\n",
      "\n",
      "Die folgenden Objekte sind maskiert von 'package:base':\n",
      "\n",
      "    I, expand.grid, unname\n",
      "\n",
      "\n",
      "Lade n\"otiges Paket: IRanges\n",
      "\n",
      "\n",
      "Attache Paket: 'IRanges'\n",
      "\n",
      "\n",
      "Die folgenden Objekte sind maskiert von 'package:dplyr':\n",
      "\n",
      "    collapse, desc, slice\n",
      "\n",
      "\n",
      "Lade n\"otiges Paket: GenomicRanges\n",
      "\n",
      "Lade n\"otiges Paket: SummarizedExperiment\n",
      "\n",
      "Lade n\"otiges Paket: Biobase\n",
      "\n",
      "Welcome to Bioconductor\n",
      "\n",
      "    Vignettes contain introductory material; view with\n",
      "    'browseVignettes()'. To cite Bioconductor, see\n",
      "    'citation(\"Biobase\")', and for packages 'citation(\"pkgname\")'.\n",
      "\n",
      "\n",
      "\n",
      "Attache Paket: 'Biobase'\n",
      "\n",
      "\n",
      "Das folgende Objekt ist maskiert 'package:MatrixGenerics':\n",
      "\n",
      "    rowMedians\n",
      "\n",
      "\n",
      "Die folgenden Objekte sind maskiert von 'package:matrixStats':\n",
      "\n",
      "    anyMissing, rowMedians\n",
      "\n",
      "\n",
      "Lade n\"otiges Paket: Rsamtools\n",
      "\n",
      "Lade n\"otiges Paket: Biostrings\n",
      "\n",
      "Lade n\"otiges Paket: XVector\n",
      "\n",
      "\n",
      "Attache Paket: 'Biostrings'\n",
      "\n",
      "\n",
      "Das folgende Objekt ist maskiert 'package:base':\n",
      "\n",
      "    strsplit\n",
      "\n",
      "\n",
      "\n",
      "Attache Paket: 'VariantAnnotation'\n",
      "\n",
      "\n",
      "Das folgende Objekt ist maskiert 'package:base':\n",
      "\n",
      "    tabulate\n",
      "\n",
      "\n",
      "Lade n\"otiges Paket: foreach\n",
      "\n",
      "Lade n\"otiges Paket: doParallel\n",
      "\n",
      "Lade n\"otiges Paket: iterators\n",
      "\n",
      "Lade n\"otiges Paket: parallel\n",
      "\n"
     ]
    }
   ],
   "source": [
    "library(katdetectr)\n",
    "library(zen4R)\n",
    "library(futile.logger)\n",
    "library(dplyr)\n",
    "library(VariantAnnotation)\n",
    "library(SeqKat)\n",
    "library(pbapply)\n",
    "\n",
    "# Set the seed for reproducibility\n",
    "set.seed(1)"
   ]
  },
  {
   "attachments": {},
   "cell_type": "markdown",
   "metadata": {},
   "source": [
    "## Importing Alexandrov et al. (2013) data and generating the synthetic datasets\n",
    "\n",
    "### Reproducibility\n",
    "\n",
    "All previously generated input and output for reproduction of the evaluation of kataegis detection packages as detailed within our manuscript were deposited on [Zenodo](https://doi.org/10.5281/zenodo.6810477) to allow re-generating the presented figures and tables. This will retrieve all the RData objects using in the latter part of this notebook."
   ]
  },
  {
   "cell_type": "code",
   "execution_count": 8,
   "metadata": {
    "vscode": {
     "languageId": "r"
    }
   },
   "outputs": [],
   "source": [
    "# Increase the timeout (due to some large files).\n",
    "options(timeout=5000)\n",
    "\n",
    "# Download the required files into the data/ folder (~1GB).\n",
    "zen4R::download_zenodo(doi = \"10.5281/zenodo.6810477\", path = 'data/', quiet = FALSE, overwrite = FALSE)"
   ]
  },
  {
   "attachments": {},
   "cell_type": "markdown",
   "metadata": {},
   "source": [
    "\n",
    "### Fresh run\n",
    "\n",
    "#### Importing somatic variants and kataegis calls from Alexandrov et al. (2013)\n",
    "\n",
    "The following code will download and pre-process the somatic variants and kataegis calls from Alexandrov et al. (2013). This will generate an RData object within the specified `path`."
   ]
  },
  {
   "cell_type": "code",
   "execution_count": null,
   "metadata": {
    "vscode": {
     "languageId": "r"
    }
   },
   "outputs": [],
   "source": [
    "source(\"R/1.importAndProcess_Alexandrov.R\")\n",
    "importAlexandrovData(path = \"data/\")"
   ]
  },
  {
   "attachments": {},
   "cell_type": "markdown",
   "metadata": {},
   "source": [
    "### Generating synthetic datasets\n",
    "\n",
    "The following code will generate a set of xxx synthetic samples (hg19) with varying degrees of kataegis events. This will generate an RData object within the specified `path`."
   ]
  },
  {
   "cell_type": "code",
   "execution_count": null,
   "metadata": {
    "vscode": {
     "languageId": "r"
    }
   },
   "outputs": [],
   "source": [
    "source(\"R/2.importAndProcess_Synthetic.R\")\n",
    "generateSyntheticData(path = \"data/\")"
   ]
  },
  {
   "attachments": {},
   "cell_type": "markdown",
   "metadata": {},
   "source": [
    "## Performing the various kataegis-detection packages\n",
    "\n",
    "Next, we will perform the various R-based kataegis-detection packages (katdetectr, SeqKat, maftools, kataegis and ClusteredMutations) and python-based (SigProfilerClusters) on the same datasets (Alexandrov et al. and the synthetic dataset). This will generate RData objects containing the results within `data/`."
   ]
  },
  {
   "cell_type": "code",
   "execution_count": 2,
   "metadata": {
    "vscode": {
     "languageId": "r"
    }
   },
   "outputs": [
    {
     "ename": "ERROR",
     "evalue": "Error in parse(text = x, srcfile = src): <text>:4:1: unerwartetes Symbol\n3: runTools_Alexandrov(data = \"data/alexandrov_data_processed.RData\"\n4: runTools_Synthetic\n   ^\n",
     "output_type": "error",
     "traceback": [
      "Error in parse(text = x, srcfile = src): <text>:4:1: unerwartetes Symbol\n3: runTools_Alexandrov(data = \"data/alexandrov_data_processed.RData\"\n4: runTools_Synthetic\n   ^\nTraceback:\n"
     ]
    }
   ],
   "source": [
    "# Run the R-based tools on the Alexandrov et al. and synthetic datasets.\n",
    "source(\"notebooks/R/3.performRPackages.R\")\n",
    "\n",
    "runTools_Alexandrov(data = \"data/alexandrov_data_processed.RData\")\n",
    "runTools_Synthetic(data = \"data/synthetic_data_processed.RData\")"
   ]
  },
  {
   "cell_type": "code",
   "execution_count": null,
   "metadata": {
    "vscode": {
     "languageId": "r"
    }
   },
   "outputs": [],
   "source": [
    "# Run the python-based SigProfiler on the Alexandrov et al. and synthetic datasets.\n",
    "source(\"R/4.performSigProfiler.R\")\n",
    "runSigProfiler(dataAlexandrov = \"data/alexandrov_data_processed.RData\", dataSynthetic = \"data/synthetic_data_processed.RData\")"
   ]
  },
  {
   "attachments": {},
   "cell_type": "markdown",
   "metadata": {
    "vscode": {
     "languageId": "r"
    }
   },
   "source": [
    "## Evaluate the results\n",
    "\n",
    "Finally, we will evaluate the results of the various kataegis-detection packages. This will generate the figures and tables presented within our manuscript."
   ]
  },
  {
   "cell_type": "code",
   "execution_count": null,
   "metadata": {
    "vscode": {
     "languageId": "r"
    }
   },
   "outputs": [],
   "source": [
    "# source(\"R/5.performSigProfiler.R\")\n"
   ]
  },
  {
   "attachments": {},
   "cell_type": "markdown",
   "metadata": {},
   "source": [
    "\n",
    "## Session information"
   ]
  },
  {
   "cell_type": "code",
   "execution_count": 3,
   "metadata": {
    "vscode": {
     "languageId": "r"
    }
   },
   "outputs": [
    {
     "data": {
      "text/plain": [
       "R version 4.2.3 (2023-03-15)\n",
       "Platform: aarch64-apple-darwin20 (64-bit)\n",
       "Running under: macOS Ventura 13.3.1\n",
       "\n",
       "Matrix products: default\n",
       "BLAS:   /Library/Frameworks/R.framework/Versions/4.2-arm64/Resources/lib/libRblas.0.dylib\n",
       "LAPACK: /Library/Frameworks/R.framework/Versions/4.2-arm64/Resources/lib/libRlapack.dylib\n",
       "\n",
       "locale:\n",
       "[1] C\n",
       "\n",
       "attached base packages:\n",
       "[1] parallel  stats4    stats     graphics  grDevices utils     datasets \n",
       "[8] methods   base     \n",
       "\n",
       "other attached packages:\n",
       " [1] pbapply_1.7-0               SeqKat_0.0.8               \n",
       " [3] doParallel_1.0.17           iterators_1.0.14           \n",
       " [5] foreach_1.5.2               VariantAnnotation_1.44.1   \n",
       " [7] Rsamtools_2.14.0            Biostrings_2.66.0          \n",
       " [9] XVector_0.38.0              SummarizedExperiment_1.28.0\n",
       "[11] Biobase_2.58.0              GenomicRanges_1.50.2       \n",
       "[13] GenomeInfoDb_1.34.9         IRanges_2.32.0             \n",
       "[15] S4Vectors_0.36.2            MatrixGenerics_1.10.0      \n",
       "[17] matrixStats_0.63.0          BiocGenerics_0.44.0        \n",
       "[19] dplyr_1.1.2                 futile.logger_1.4.3        \n",
       "[21] zen4R_0.8                   katdetectr_1.0.0           \n",
       "\n",
       "loaded via a namespace (and not attached):\n",
       " [1] bitops_1.0-7                      bit64_4.0.5                      \n",
       " [3] filelock_1.0.2                    progress_1.2.2                   \n",
       " [5] httr_1.4.6                        repr_1.1.6                       \n",
       " [7] tools_4.2.3                       utf8_1.2.3                       \n",
       " [9] R6_2.5.1                          DBI_1.1.3                        \n",
       "[11] tidyselect_1.2.0                  prettyunits_1.1.1                \n",
       "[13] bit_4.0.5                         curl_5.0.0                       \n",
       "[15] compiler_4.2.3                    cli_3.6.1                        \n",
       "[17] formatR_1.14                      xml2_1.3.4                       \n",
       "[19] DelayedArray_0.24.0               rtracklayer_1.58.0               \n",
       "[21] rappdirs_0.3.3                    pbdZMQ_0.3-9                     \n",
       "[23] stringr_1.5.0                     digest_0.6.31                    \n",
       "[25] BSgenome.Hsapiens.UCSC.hg19_1.4.3 base64enc_0.1-3                  \n",
       "[27] pkgconfig_2.0.3                   htmltools_0.5.5                  \n",
       "[29] dbplyr_2.3.2                      fastmap_1.1.1                    \n",
       "[31] BSgenome_1.66.3                   rlang_1.1.1                      \n",
       "[33] keyring_1.3.1                     RSQLite_2.3.1                    \n",
       "[35] BiocIO_1.8.0                      generics_0.1.3                   \n",
       "[37] jsonlite_1.8.4                    BiocParallel_1.32.6              \n",
       "[39] RCurl_1.98-1.12                   magrittr_2.0.3                   \n",
       "[41] GenomeInfoDbData_1.2.9            Matrix_1.5-4                     \n",
       "[43] Rcpp_1.0.10                       IRkernel_1.3.2                   \n",
       "[45] fansi_1.0.4                       lifecycle_1.0.3                  \n",
       "[47] stringi_1.7.12                    yaml_2.3.7                       \n",
       "[49] zlibbioc_1.44.0                   BiocFileCache_2.6.1              \n",
       "[51] grid_4.2.3                        blob_1.2.4                       \n",
       "[53] crayon_1.5.2                      lattice_0.21-8                   \n",
       "[55] IRdisplay_1.1                     GenomicFeatures_1.50.4           \n",
       "[57] hms_1.1.3                         KEGGREST_1.38.0                  \n",
       "[59] BSgenome.Hsapiens.UCSC.hg38_1.4.5 pillar_1.9.0                     \n",
       "[61] uuid_1.1-0                        rjson_0.2.21                     \n",
       "[63] codetools_0.2-19                  biomaRt_2.54.1                   \n",
       "[65] futile.options_1.0.1              XML_3.99-0.14                    \n",
       "[67] glue_1.6.2                        evaluate_0.21                    \n",
       "[69] lambda.r_1.2.4                    png_0.1-8                        \n",
       "[71] vctrs_0.6.2                       Rdpack_2.4                       \n",
       "[73] assertthat_0.2.1                  cachem_1.0.8                     \n",
       "[75] rbibutils_2.2.13                  restfulr_0.0.15                  \n",
       "[77] tibble_3.2.1                      GenomicAlignments_1.34.1         \n",
       "[79] AnnotationDbi_1.60.2              memoise_2.0.1                    "
      ]
     },
     "metadata": {},
     "output_type": "display_data"
    }
   ],
   "source": [
    "sessionInfo()"
   ]
  }
 ],
 "metadata": {
  "kernelspec": {
   "display_name": "R",
   "language": "R",
   "name": "ir"
  },
  "language_info": {
   "codemirror_mode": "r",
   "file_extension": ".r",
   "mimetype": "text/x-r-source",
   "name": "R",
   "pygments_lexer": "r",
   "version": "4.2.3"
  },
  "orig_nbformat": 4
 },
 "nbformat": 4,
 "nbformat_minor": 2
}
