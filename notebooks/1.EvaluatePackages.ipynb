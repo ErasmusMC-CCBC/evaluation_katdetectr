{
 "cells": [
  {
   "attachments": {},
   "cell_type": "markdown",
   "metadata": {},
   "source": [
    "# Evaluating the performance of the kataegis detection packages\n",
    "\n",
    "This Jupyter notebook will reproduce the evaluation of kataegis detection packages as detailed within our manuscript.\n"
   ]
  },
  {
   "attachments": {},
   "cell_type": "markdown",
   "metadata": {},
   "source": [
    "## Loading/installing dependencies\n",
    "\n",
    "First, we import the dependencies for this notebook. If the R dependencies are not installed, we install them.\n"
   ]
  },
  {
   "cell_type": "code",
   "execution_count": 1,
   "metadata": {
    "vscode": {
     "languageId": "r"
    }
   },
   "outputs": [
    {
     "name": "stderr",
     "output_type": "stream",
     "text": [
      "Installiere Paket nach '/Users/jobbie/Library/R/arm64/4.2/library'\n",
      "(da 'lib' nicht spezifiziert)\n",
      "\n"
     ]
    },
    {
     "name": "stdout",
     "output_type": "stream",
     "text": [
      "\n",
      "Die heruntergeladenen Bin\"arpakete sind in \n",
      "\t/var/folders/35/vm9kcsm57tx2q1vv2pfl2p9c0000gn/T//RtmpaXRRKt/downloaded_packages\n"
     ]
    }
   ],
   "source": [
    "# Install and load packages for kataegis analysis.\n",
    "install.packages(\"librarian\")\n",
    "librarian::shelf(katdetectr, BiocManager, Biobase, eblondel / zen4R, mltools, VennDiagram, futile.logger, ggplot2, dplyr, VariantAnnotation, pbapply, SeqKat, doMC, ClusteredMutations, kataegis, maftools, flosalbizziae / kataegis)\n",
    "\n",
    "# Set the seed for reproducibility\n",
    "set.seed(1)"
   ]
  },
  {
   "attachments": {},
   "cell_type": "markdown",
   "metadata": {},
   "source": [
    "### Setting up SigProfiler dependencies (GRCh37)\n",
    "\n",
    "Please note that sigprofiler needs to be installed separately.\n",
    "\n",
    "```python\n",
    "pip3 install SigProfilerClusters SigProfilerSimulator seaborn\n",
    "```\n",
    "\n",
    "In order for SigProfiles to run, we need to download the GRCh37 reference genome and the corresponding annotations.\n",
    "\n",
    "```bash\n",
    "python3 ../python/setupSigProfiler.py\n",
    "```\n"
   ]
  },
  {
   "attachments": {},
   "cell_type": "markdown",
   "metadata": {},
   "source": [
    "## Importing Alexandrov et al. (2013) data and generating the synthetic datasets\n",
    "\n",
    "### Reproducibility\n",
    "\n",
    "All previously generated input and output for reproduction of the evaluation of kataegis detection packages as detailed within our manuscript were deposited on [Zenodo](https://doi.org/10.5281/zenodo.6810477) to allow re-generating the presented figures and tables. \n",
    "\n",
    "This will retrieve all the RData objects using in the latter part of this notebook.\n"
   ]
  },
  {
   "cell_type": "code",
   "execution_count": 2,
   "metadata": {
    "vscode": {
     "languageId": "r"
    }
   },
   "outputs": [
    {
     "name": "stdout",
     "output_type": "stream",
     "text": [
      "[zen4R][INFO] ZenodoRecord - Download in sequential mode \n",
      "[zen4R][INFO] ZenodoRecord - Will download 12 files from record '6810477' (doi: '10.5281/zenodo.6810477') - total size: 977.9 MiB \n",
      "[zen4R][INFO] Downloading file 'alexandrov_data_processed_katdetectr_evaluation.csv.zip' - size: 37 MiB\n",
      "[zen4R][INFO] Downloading file 'alexandrov_data_processed.RData' - size: 72.8 MiB\n"
     ]
    }
   ],
   "source": [
    "# Increase the timeout (due to some large files).\n",
    "options(timeout = 5000)\n",
    "\n",
    "# Download the required files into the data/reproduction folder (~1GB).\n",
    "# Skip if files already exist.\n",
    "if (!dir.exists(\"data/reproduction\")){\n",
    "    dir.create(\"data/reproduction\", recursive = TRUE, showWarnings = FALSE)\n",
    "    zen4R::download_zenodo(doi = \"10.5281/zenodo.6810477\", path = \"data/reproduction/\", quiet = FALSE, overwrite = FALSE)\n",
    "}"
   ]
  },
  {
   "attachments": {},
   "cell_type": "markdown",
   "metadata": {},
   "source": [
    "### Fresh run\n",
    "\n",
    "#### Importing somatic variants and kataegis calls from Alexandrov et al. (2013)\n",
    "\n",
    "The following code will download and pre-process the somatic variants and kataegis calls from Alexandrov et al. (2013). This will generate an RData object within the specified `path`.\n"
   ]
  },
  {
   "cell_type": "code",
   "execution_count": null,
   "metadata": {
    "slideshow": {
     "slide_type": "skip"
    },
    "vscode": {
     "languageId": "r"
    }
   },
   "outputs": [],
   "source": [
    "source(\"R/1.importAndProcess_Alexandrov.R\")\n",
    "importAlexandrovData(path = \"data/\")"
   ]
  },
  {
   "attachments": {},
   "cell_type": "markdown",
   "metadata": {},
   "source": [
    "### Generating synthetic datasets\n",
    "\n",
    "The following code will generate a set of synthetic samples (hg19) with varying degrees of kataegis events. This will generate an RData object within the specified `path`.\n"
   ]
  },
  {
   "cell_type": "code",
   "execution_count": null,
   "metadata": {
    "slideshow": {
     "slide_type": "skip"
    },
    "vscode": {
     "languageId": "r"
    }
   },
   "outputs": [],
   "source": [
    "source(\"R/2.importAndProcess_Synthetic.R\")\n",
    "generateSyntheticData(path = \"data/\")"
   ]
  },
  {
   "attachments": {},
   "cell_type": "markdown",
   "metadata": {},
   "source": [
    "## Performing the various kataegis-detection packages\n",
    "\n",
    "Next, we will perform the various R-based kataegis-detection packages (katdetectr, SeqKat, maftools, kataegis and ClusteredMutations) and python-based (SigProfilerClusters) on the same datasets (Alexandrov et al. and the synthetic dataset). This will generate RData objects containing the results within `data/`.\n"
   ]
  },
  {
   "cell_type": "code",
   "execution_count": null,
   "metadata": {
    "slideshow": {
     "slide_type": "skip"
    },
    "vscode": {
     "languageId": "r"
    }
   },
   "outputs": [],
   "source": [
    "# Run the R-based tools on the Alexandrov et al. and synthetic datasets.\n",
    "source(\"R/3.performRPackages.R\")\n",
    "\n",
    "# Remove the subset argument (or set to FALSE) to perform on all samples.\n",
    "runTools_Alexandrov(data = \"data/alexandrov_data_processed.RData\", subset = TRUE)\n",
    "runTools_Synthetic(data = \"data/synthetic_data.RData\", subset = TRUE)"
   ]
  },
  {
   "cell_type": "code",
   "execution_count": null,
   "metadata": {
    "slideshow": {
     "slide_type": "skip"
    },
    "vscode": {
     "languageId": "r"
    }
   },
   "outputs": [],
   "source": [
    "# Run the python-based SigProfiler on the Alexandrov et al. and synthetic datasets.\n",
    "source(\"R/4.performSigProfiler.R\")\n",
    "runSigProfiler(dataAlexandrov = \"data/alexandrov_data_processed.RData\", dataSynthetic = \"data/synthetic_data.RData\", subset = TRUE)"
   ]
  },
  {
   "attachments": {},
   "cell_type": "markdown",
   "metadata": {
    "vscode": {
     "languageId": "r"
    }
   },
   "source": [
    "## Evaluate the results\n",
    "\n",
    "Finally, we will evaluate the results of the various kataegis-detection packages. This will generate the figures and tables presented within our manuscript.\n",
    "We begin by loading in all the results from the previous steps.\n",
    "\n",
    "When the data is downloaded from Zenodo to reproduce the exact figures as presented within the manuscript, please change the `data/` path to the path where the RData objects were downloaded (`data/reproduction`).\n"
   ]
  },
  {
   "cell_type": "code",
   "execution_count": null,
   "metadata": {
    "vscode": {
     "languageId": "r"
    }
   },
   "outputs": [],
   "source": [
    "# Load all required data and functions.\n",
    "reproduction <- TRUE\n",
    "\n",
    "if ( reproduction) {\n",
    "    path <- \"data/reproduction/\"\n",
    "    load(file = file.path(path, \"parameters_synthetic_data.RData\"))\n",
    "    load(file = file.path(path, \"alexandrov_data_processed_WGS_and_WES.RData\"))\n",
    "\n",
    "}else{\n",
    "    path <- \"data/\"\n",
    "    load(file = file.path(path, \"resultsAlexandrovAllTools.RData\"))\n",
    "}\n",
    "\n",
    "# Load data.\n",
    "load(file = file.path(path, \"resultsAlexandrovAllTools.RData\"))\n",
    "load(file = file.path(path, \"alexandrov_data_processed.RData\"))\n",
    "\n",
    "\n",
    "load(file = file.path(path, \"resultsSyntheticAllTools.RData\"))\n",
    "load(file = file.path(path, \"synthetic_data.RData\"))\n",
    "\n",
    "\n",
    "# Load functions.\n",
    "source(file = \"R/function_calculateMetrics.R\")\n",
    "source(file = \"R/function_calculateConfusionVariants.R\")\n",
    "source(file = \"R/ggplot_theme.R\")\n",
    "\n",
    "# Load sample origin data.\n",
    "sampleOrigin <- read.csv(\"misc/sampleOrigin.txt\", header = TRUE, sep = \"\\t\")"
   ]
  },
  {
   "attachments": {},
   "cell_type": "markdown",
   "metadata": {},
   "source": [
    "### Descriptive overview of kataegis per TMB class (Alexandrov).\n"
   ]
  },
  {
   "cell_type": "code",
   "execution_count": null,
   "metadata": {
    "vscode": {
     "languageId": "r"
    }
   },
   "outputs": [],
   "source": [
    "fociPerSample <- alexandrovData$reportedKataegis |>\n",
    "    tibble::as_tibble() |>\n",
    "    dplyr::group_by(.data$sampleNames) |>\n",
    "    dplyr::summarise(\n",
    "        nKataegisFoci = dplyr::n()\n",
    "    )\n",
    "\n",
    "alexandrovData$genomicVariants |>\n",
    "    tibble::as_tibble() |>\n",
    "    dplyr::group_by(.data$sampleNames) |>\n",
    "    dplyr::summarise(\n",
    "        .groups = \"keep\",\n",
    "        totalVariants = dplyr::n(),\n",
    "        kataegisVariants = sum(.data$kataegis),\n",
    "        tissue = unique(.data$tissue)\n",
    "    ) |>\n",
    "    dplyr::mutate(\n",
    "        TMB = base::round(.data$totalVariants / 3095, 3),\n",
    "        TMBcat = dplyr::case_when(\n",
    "            TMB < 1 ~ \"low\",\n",
    "            TMB >= 1 & TMB < 10 ~ \"mid\",\n",
    "            TMB >= 10 ~ \"high\"\n",
    "        )\n",
    "    ) |>\n",
    "    dplyr::left_join(fociPerSample, by = \"sampleNames\") |>\n",
    "    dplyr::mutate(nKataegisFoci = tidyr::replace_na(.data$nKataegisFoci, 0)) |>\n",
    "    dplyr::group_by(TMBcat) |>\n",
    "    dplyr::summarise(\n",
    "        nSample = dplyr::n(),\n",
    "        nKataegisSamples = base::sum(.data$nKataegisFoci != 0),\n",
    "        totalVariants = base::sum(.data$totalVariants),\n",
    "        kataegisVariants = base::sum(.data$kataegisVariants),\n",
    "        nKataegisFoci = base::sum(.data$nKataegisFoci)\n",
    "    )"
   ]
  },
  {
   "attachments": {},
   "cell_type": "markdown",
   "metadata": {},
   "source": [
    "#### Combine results into a dataframe and add columns needed for further analysis.\n"
   ]
  },
  {
   "cell_type": "code",
   "execution_count": null,
   "metadata": {
    "vscode": {
     "languageId": "r"
    }
   },
   "outputs": [],
   "source": [
    "kataegisSampleNames <- base::unique(alexandrovData$reportedKataegisFoci$sampleNames)\n",
    "nVariantsInSample <- base::lapply(alexandrovData$genomicVariants, base::length)\n",
    "nVariantsInSampleTib <- tibble::tibble(sampleNames = base::names(nVariantsInSample), totalVariantsInSample = base::unlist(nVariantsInSample))\n",
    "\n",
    "# combine all results in a single tibble and add columns needed for subsequent analysis\n",
    "resultsAlex <- dplyr::bind_rows(\n",
    "    \"MafTools\" = resultsAlexandrovAllTools$maftools,\n",
    "    \"SeqKat\" = resultsAlexandrovAllTools$seqkat,\n",
    "    \"ClusteredMutations\" = resultsAlexandrovAllTools$clusteredMutations,\n",
    "    \"Katdetectr\" = resultsAlexandrovAllTools$katdetectr,\n",
    "    \"Kataegis\" = resultsAlexandrovAllTools$kataegis,\n",
    "    \"SigProfilerClusters\" = resultsAlexandrovAllTools$sigProfilerClusters,\n",
    "    .id = \"package\"\n",
    ") |>\n",
    "    dplyr::distinct() |>\n",
    "    dplyr::left_join(nVariantsInSampleTib, by = \"sampleNames\") |>\n",
    "    dplyr::mutate(\n",
    "        # calculate tumor mutational burden per sample by total number of variants / (length of the genome / 10^6) ~ 3095\n",
    "        TMB = base::round(totalVariantsInSample / 3095, 3),\n",
    "        TMBcat = dplyr::case_when(\n",
    "            TMB < 1 ~ \"low\",\n",
    "            TMB >= 1 & TMB < 10 ~ \"mid\",\n",
    "            TMB >= 10 ~ \"high\"\n",
    "        ),\n",
    "        TMBcat = factor(TMBcat, levels = c(\"high\", \"mid\", \"low\")),\n",
    "        # specify if a kataegis foci was detected by the method\n",
    "        detectedKataegisInSample = dplyr::if_else(is.na(.data$totalVariants), FALSE, TRUE),\n",
    "        # specify if a sample contains a kataegis foci according to Alexandrov\n",
    "        kataegisInSample = dplyr::if_else(sampleNames %in% kataegisSampleNames, TRUE, FALSE)\n",
    "    ) |>\n",
    "    dplyr::left_join(sampleOrigin, by = \"sampleNames\")\n",
    "\n",
    "# Calculate the performance metrics for each method\n",
    "resultsPerSampleAlex <- resultsAlex |>\n",
    "    # summarise if a method detected kataegis in a sample\n",
    "    dplyr::group_by(.data$package, .data$sampleNames, .data$TMB, .data$TMBcat, .data$runTime) |>\n",
    "    dplyr::summarise(\n",
    "        .groups = \"keep\",\n",
    "        # is a kataegis foci detected by the method\n",
    "        detectedKataegisInSample = any(detectedKataegisInSample),\n",
    "        # is there actualy a kataegis foci in that sample\n",
    "        kataegisInSample = any(kataegisInSample)\n",
    "    ) |>\n",
    "    dplyr::ungroup() |>\n",
    "    dplyr::rowwise() |>\n",
    "    # calculate confusion matrix\n",
    "    dplyr::mutate(\n",
    "        TP = .data$detectedKataegisInSample == TRUE & .data$kataegisInSample == TRUE,\n",
    "        FP = .data$detectedKataegisInSample == TRUE & .data$kataegisInSample == FALSE,\n",
    "        TN = .data$detectedKataegisInSample == FALSE & .data$kataegisInSample == FALSE,\n",
    "        FN = .data$detectedKataegisInSample == FALSE & .data$kataegisInSample == TRUE\n",
    "    ) |>\n",
    "    dplyr::ungroup()\n",
    "\n",
    "performancePerSampleAlex <- resultsPerSampleAlex |>\n",
    "    dplyr::group_by(.data$package) |>\n",
    "    dplyr::group_modify(~ calculateMetrics(.x), .keep = TRUE) |>\n",
    "    dplyr::ungroup()\n",
    "\n",
    "performancePerSampleTMB <- resultsPerSampleAlex |>\n",
    "    dplyr::group_by(.data$package, .data$TMBcat) |>\n",
    "    dplyr::group_modify(~ calculateMetrics(.x), .keep = TRUE) |>\n",
    "    dplyr::ungroup()\n",
    "\n",
    "# Calculate the performance of the kataegis detection tools regarding variant classification\n",
    "resultsPerVariant <- resultsAlex |>\n",
    "    dplyr::group_by(.data$package, .data$sampleNames) |>\n",
    "    dplyr::group_modify(~ calculateConfusionVariants(.x, variantData = alexandrovData), .keep = TRUE) |>\n",
    "    dplyr::ungroup()\n",
    "\n",
    "performancePerVariantAlex <- resultsPerVariant |>\n",
    "    dplyr::group_by(.data$package) |>\n",
    "    dplyr::group_modify(~ calculateMetrics(.x), .keep = TRUE) |>\n",
    "    dplyr::ungroup() |>\n",
    "    arrange(desc(nMCC)) |>\n",
    "    dplyr::select(package, accuracy, nMCC, F1, TPR, TNR)\n",
    "\n",
    "performancePerVariantTMBAlex <- resultsPerVariant |>\n",
    "    dplyr::group_by(.data$package, .data$TMBcat) |>\n",
    "    dplyr::group_modify(~ calculateMetrics(.x), .keep = TRUE) |>\n",
    "    dplyr::ungroup()"
   ]
  },
  {
   "attachments": {},
   "cell_type": "markdown",
   "metadata": {},
   "source": [
    "#### Visualize the MMC (Alexandrov)"
   ]
  },
  {
   "cell_type": "code",
   "execution_count": null,
   "metadata": {
    "vscode": {
     "languageId": "r"
    }
   },
   "outputs": [],
   "source": [
    "levelOrderTMB <- c(\"Low (TMB < 0.1)\", \"Mid (0.1 >= TMB < 10)\", \"High (TMB >= 10)\")\n",
    "levelOrderTMB <- c(\"low\", \"mid\", \"high\")\n",
    "levelOrderPackages <- factor(performancePerVariantAlex$package, levels = arrange(performancePerVariantAlex, nMCC)$package)\n",
    "\n",
    "colors <- c(\"ClusteredMutations\" = \"#66C2A5\", \"Kataegis\" = \"#FC8D62\", \"Katdetectr\" = \"#8DA0CB\", \"MafTools\" = \"#E78AC3\", \"SeqKat\" = \"#A6D854\", \"SigProfilerClusters\" = \"#FFD92F\")\n",
    "\n",
    "plotnMMC.Alex <- performancePerVariantTMBAlex |>\n",
    "    ggplot2::ggplot(ggplot2::aes(x = factor(TMBcat, levels = levelOrderTMB), y = nMCC, group = factor(package, levels = levelOrderPackages), colour = factor(package, levels = levelOrderPackages))) +\n",
    "    ggplot2::geom_line(linewidth = 0.5, alpha = 0.4, lty = 11) +\n",
    "    ggplot2::geom_point(ggplot2::aes(x = factor(TMBcat, levels = levelOrderTMB), y = nMCC, fill = package), col = \"black\", shape = 21, position = ggbeeswarm::position_quasirandom(width = .05)) +\n",
    "    ggplot2::scale_fill_manual(values = colors) +\n",
    "    ggplot2::scale_color_manual(values = colors, guide = \"none\") +\n",
    "    ggplot2::scale_x_discrete(labels = c(\n",
    "        \"low\" = \"Low (TMB < 0.1)<br>n = 301\",\n",
    "        \"mid\" = \"Mid (0.1 ≥ TMB < 10)<br>n = 186\",\n",
    "        \"high\" = \"High (TMB ≥ 10)<br>n = 20\"\n",
    "    )) +\n",
    "    ggplot2::ylim(0.5, 1) +\n",
    "    ggplot2::labs(x = \"TMB class\", y = \"nMCC\") +\n",
    "    theme_Job\n",
    "\n",
    "plotnMMC.Alex\n"
   ]
  },
  {
   "attachments": {},
   "cell_type": "markdown",
   "metadata": {},
   "source": [
    "#### Visualize performance in variant classification split on TMB (Alexandrov)\n"
   ]
  },
  {
   "cell_type": "code",
   "execution_count": null,
   "metadata": {
    "vscode": {
     "languageId": "r"
    }
   },
   "outputs": [],
   "source": [
    "# facet labels\n",
    "TMB.labs <- c(\"TMB >= 10\", \"0.1 >= TMB < 10\", \"TMB < 0.1\")\n",
    "names(TMB.labs) <- c(\"high\", \"mid\", \"low\")\n",
    "\n",
    "plotPerformancePerVariantTMB <- performancePerVariantTMBAlex |>\n",
    "    tidyr::pivot_longer(\n",
    "        cols = c(accuracy, TPR, TNR, F1, nMCC),\n",
    "        names_to = \"performanceMetric\",\n",
    "        values_to = \"value\"\n",
    "    ) |>\n",
    "    ggplot2::ggplot(ggplot2::aes(\n",
    "        y = factor(package, levels = arrange(performancePerVariantAlex, nMCC)$package),\n",
    "        x = factor(performanceMetric, levels = c(\"accuracy\", \"nMCC\", \"F1\", \"TPR\", \"TNR\")),\n",
    "        label = round(value, 4),\n",
    "        fill = value\n",
    "    )) +\n",
    "    ggplot2::geom_tile(color = \"grey25\") +\n",
    "    ggplot2::scale_fill_gradientn(colors = hcl.colors(20, \"RdYlGn\"), values = c(0, 0.5, 1), limits = c(0, 1), breaks = seq(0, 1, by = 0.25)) +\n",
    "    ggplot2::ylab(\"Package\") +\n",
    "    ggplot2::xlab(\"Performance on WGS data split on TMB\") +\n",
    "    ggplot2::scale_x_discrete(position = \"top\") +\n",
    "    ggplot2::theme(\n",
    "        axis.text.x = ggplot2::element_text(angle = 0, ),\n",
    "        text = ggplot2::element_text(size = 10, family = \"Helvetica\"),\n",
    "        strip.background = ggplot2::element_blank(),\n",
    "        panel.background = ggplot2::element_blank(),\n",
    "        legend.title = ggplot2::element_blank()\n",
    "    ) +\n",
    "    ggplot2::geom_text(size = 2.9, angle = 0) +\n",
    "    ggplot2::facet_grid(TMBcat ~ ., labeller = ggplot2::labeller(TMBcat = TMB.labs))\n",
    "\n",
    "# Runtime.\n",
    "colors = c('ClusteredMutations' = '#66C2A5', 'Kataegis' = '#FC8D62', 'Katdetectr' = '#8DA0CB', 'MafTools' = '#E78AC3', 'SeqKat' = '#A6D854', 'SigProfilerClusters' = '#FFD92F')\n",
    "plotRunTimes.Alex <- resultsPerSampleAlex |> \n",
    "    ggplot2::ggplot(mapping = ggplot2::aes(x = factor(package, levels = arrange(performancePerSampleAlex, meanRuntime)$package), y = runTime, fill = package)) + \n",
    "    gghalves::geom_half_point_panel(size = 1, col = 'black', shape = 21) +\n",
    "    gghalves::geom_half_boxplot(outlier.shape = NA) +\n",
    "    ggplot2::scale_fill_manual(values = colors, guide = 'none') +\n",
    "    ggplot2::scale_color_manual(values = colors, guide = 'none') +\n",
    "    ggplot2::scale_y_continuous(trans = scales::pseudo_log_trans(), breaks = c(0:5, 10, 25, 50, seq(100, 500, by = 100), 1000)) +\n",
    "    ggplot2::labs(y = \"Runtime (seconds)\", x = 'Packages') +\n",
    "    ggplot2::geom_text(data = resultsPerSampleAlex %>% dplyr::group_by(package) %>% dplyr::summarise(mean = mean(runTime, na.rm = T)), ggplot2::aes(x = package, y = -.5, label = round(mean, 1)), size = 3, fontface='bold') +\n",
    "    theme_Job\n",
    "\n",
    "\n",
    "plotPerformancePerVariantTMB\n",
    "plotRunTimes.Alex"
   ]
  },
  {
   "attachments": {},
   "cell_type": "markdown",
   "metadata": {},
   "source": [
    "#### Venn diagram that shows in which samples one or more kataegis foci is detected by the packages (WGS)\n"
   ]
  },
  {
   "cell_type": "code",
   "execution_count": null,
   "metadata": {
    "vscode": {
     "languageId": "r"
    }
   },
   "outputs": [],
   "source": [
    "katDetectadd <- resultsPerSampleAlex |> \n",
    "    filter(package == \"Katdetectr\" & (TP | FP)) |> \n",
    "    pull(sampleNames)\n",
    "\n",
    "clusteredMutationsadd <- resultsPerSampleAlex |> \n",
    "    filter(package == \"ClusteredMutations\" & (TP | FP)) |> \n",
    "    pull(sampleNames)\n",
    "\n",
    "mafToolsadd <- resultsPerSampleAlex |> \n",
    "    filter(package == \"MafTools\" & (TP | FP)) |> \n",
    "    pull(sampleNames)\n",
    "\n",
    "kataegisadd <- resultsPerSampleAlex |> \n",
    "    filter(package == \"Kataegis\" & (TP | FP)) |> \n",
    "    pull(sampleNames)\n",
    "\n",
    "seqkatadd <- resultsPerSampleAlex |> \n",
    "    filter(package == \"SeqKat\" & (TP | FP)) |> \n",
    "    pull(sampleNames)\n",
    "\n",
    "sigProfilerClustersadd <- resultsPerSampleAlex |> \n",
    "    filter(package == \"SigProfilerClusters\" & (TP | FP)) |> \n",
    "    pull(sampleNames)\n",
    "\n",
    "alexandrovAdd <- resultsPerSampleAlex |> \n",
    "    filter(kataegisInSample) |> \n",
    "    pull(sampleNames)\n",
    "\n",
    "VennDiagram::venn.diagram(\n",
    "    x = list(katDetectadd, clusteredMutationsadd, mafToolsadd, sigProfilerClustersadd, alexandrovAdd),\n",
    "    category.names = c(\"Katdetectr\", \"ClusteredMutations\", \"MafTools\", \"SigProfilerClusters\", \"Alexandrov et al., 2013\"),\n",
    "    filename = \"venn_diagram_kataegis_samples.png\",\n",
    "    output=TRUE,\n",
    "    imagetype=\"png\",\n",
    "    disable.logging = TRUE,\n",
    "    cat.pos = c(0, 0, -120, 120, 0),\n",
    "    cat.dist = c(0.18, 0.21, 0.21, 0.25, 0.21),\n",
    "    fill = c(\"dodgerblue\", \"#66C2A5\", \"darkorange1\", \"#FFD92F\", \"orchid3\"),\n",
    "    alpha = 0.50,\n",
    "    col = \"black\",\n",
    "    rotation.degree\t= -6\n",
    ")\n"
   ]
  },
  {
   "attachments": {},
   "cell_type": "markdown",
   "metadata": {},
   "source": [
    "![Concordance in kataegis detection in WGS dataset per sample](venn_diagram_kataegis_samples.png)"
   ]
  },
  {
   "attachments": {},
   "cell_type": "markdown",
   "metadata": {
    "vscode": {
     "languageId": "r"
    }
   },
   "source": [
    "#### Generate Venn-diagram of of kataegis foci detected by the packages."
   ]
  },
  {
   "cell_type": "code",
   "execution_count": null,
   "metadata": {
    "vscode": {
     "languageId": "r"
    }
   },
   "outputs": [],
   "source": [
    "findOverlappingFoci <- function(x){\n",
    "    \n",
    "    allFociInSample <- x\n",
    "    \n",
    "    Focireduced <- allFociInSample %>% \n",
    "        GenomicRanges::makeGRangesFromDataFrame(keep.extra.columns = TRUE) %>% \n",
    "        GenomicRanges::reduce(min.gapwidth = 0, ignore.strand = TRUE, with.revmap = TRUE)\n",
    "    \n",
    "    names(Focireduced$revmap) <- paste0(unique(allFociInSample$sampleNames), \"_foci_\", seq(length(Focireduced$revmap)))\n",
    "    \n",
    "    fociList <- lapply(Focireduced$revmap, function(i){\n",
    "        allFociInSample$package[i]\n",
    "    })\n",
    "    \n",
    "    focidf <- lapply(seq_len(length(fociList)), function(i){\n",
    "        tibble(package = fociList[[i]], foci = names(fociList)[i])\n",
    "    }) |> bind_rows()\n",
    "    \n",
    "    return(focidf)\n",
    "}\n",
    "\n",
    "alexKataegis <- alexandrovData$reportedKataegisFoci |> \n",
    "    as_tibble() |> \n",
    "    mutate(package = \"Alexandrov\")\n",
    "\n",
    "resultsAlexPerFoci <- resultsAlex |> \n",
    "    filter(detectedKataegisInSample) |>  \n",
    "    bind_rows(alexKataegis) |> \n",
    "    group_by(sampleNames) |> \n",
    "    group_modify(~ findOverlappingFoci(.x), keep = TRUE) |> \n",
    "    ungroup()\n",
    "\n",
    "katdetectrFoci <- resultsAlexPerFoci |> \n",
    "    filter(package == \"Katdetectr\") |> \n",
    "    pull(foci)\n",
    "\n",
    "clusteredMutationsFoci <- resultsAlexPerFoci |> \n",
    "    filter(package == \"ClusteredMutations\") |> \n",
    "    pull(foci)\n",
    "\n",
    "maftoolsFoci <- resultsAlexPerFoci |> \n",
    "    filter(package == \"MafTools\") |> \n",
    "    pull(foci)\n",
    "\n",
    "kataegisPFoci <- resultsAlexPerFoci |> \n",
    "    filter(package == \"Kataegis\") |> \n",
    "    pull(foci)\n",
    "\n",
    "seqKatFoci <- resultsAlexPerFoci |> \n",
    "    filter(package == \"SeqKat\") |> \n",
    "    pull(foci)\n",
    "\n",
    "sigProfilerClustersFoci <- resultsAlexPerFoci |> \n",
    "    filter(package == \"SigProfilerClusters\") |> \n",
    "    pull(foci)\n",
    "\n",
    "alexandrovFoci <- resultsAlexPerFoci |> \n",
    "    filter(package == \"Alexandrov\") |> \n",
    "    pull(foci)\n",
    "\n",
    "\n",
    "VennDiagram::venn.diagram(\n",
    "    x = list(katdetectrFoci, clusteredMutationsFoci, maftoolsFoci, sigProfilerClustersFoci, alexandrovFoci),\n",
    "    category.names = c(\"Katdetectr\", \"ClusteredMutations\", \"MafTools\", \"SigProfilerClusters\", \"Alexandrov et al., 2013\"),\n",
    "    filename = \"venn_diagram_kataegis_foci.png\",\n",
    "    output=T,\n",
    "    imagetype=\"png\",\n",
    "    disable.logging = TRUE,\n",
    "    \n",
    "    cat.pos = c(0, 0, -120, 120, 0),\n",
    "    cat.dist = c(0.18, 0.21, 0.21, 0.25, 0.21),\n",
    "    fill = c(\"dodgerblue\", \"#66C2A5\", \"darkorange1\", \"#FFD92F\", \"orchid3\"),\n",
    "    alpha = 0.50,\n",
    "    col = \"black\",\n",
    "    rotation.degree\t= -6\n",
    ")"
   ]
  },
  {
   "attachments": {},
   "cell_type": "markdown",
   "metadata": {},
   "source": [
    "![Concordance in kataegis detection in WGS dataset per kataegis focus](venn_diagram_kataegis_foci.png)"
   ]
  },
  {
   "attachments": {},
   "cell_type": "markdown",
   "metadata": {
    "vscode": {
     "languageId": "r"
    }
   },
   "source": [
    "#### Examples of kataegis foci."
   ]
  },
  {
   "cell_type": "code",
   "execution_count": null,
   "metadata": {
    "vscode": {
     "languageId": "r"
    }
   },
   "outputs": [],
   "source": [
    "kdLUADE01014 <- katdetectr::detectKataegis(alexandrovData$genomicVariants$\"LUAD-E01014\")\n",
    "rfpkdLUADE01014 <- katdetectr::rainfallPlot(kdLUADE01014)\n",
    "rfpkdLUADE01014chr2 <- katdetectr::rainfallPlot(kdLUADE01014, showSequence = \"chr2\", showSegmentation = TRUE)\n",
    "\n",
    "rfpkdLUADE01014\n",
    "rfpkdLUADE01014chr2\n",
    "\n",
    "\n",
    "kdAPGI_1956 <- katdetectr::detectKataegis(alexandrovData$genomicVariants$\"APGI_1956\")\n",
    "rfpAPGI_1956 <- katdetectr::rainfallPlot(kdAPGI_1956)\n",
    "APGI_1956chr18 <- katdetectr::rainfallPlot(kdAPGI_1956, showSequence = \"chr18\", showSegmentation = TRUE)\n",
    "\n",
    "rfpAPGI_1956\n",
    "APGI_1956chr18\n",
    "\n",
    "kdPD4086a <- katdetectr::detectKataegis(alexandrovData$genomicVariants$\"PD4086a\")\n",
    "rfpPD4086a <- katdetectr::rainfallPlot(kdPD4086a)\n",
    "PD4086achr1 <- katdetectr::rainfallPlot(kdPD4086a, showSequence = \"chr1\", showSegmentation = TRUE)\n",
    "\n",
    "rfpPD4086a\n",
    "PD4086achr1\n",
    "\n",
    "kdPD7207a <- katdetectr::detectKataegis(alexandrovData$genomicVariants$\"PD7207a\")\n",
    "rfpPD7207a <- katdetectr::rainfallPlot(kdPD7207a)\n",
    "rfpPD7207achr6 <- katdetectr::rainfallPlot(kdPD7207a, showSequence = \"chr6\", showSegmentation = TRUE)\n",
    "\n",
    "rfpPD7207a\n",
    "rfpPD7207achr6"
   ]
  },
  {
   "attachments": {},
   "cell_type": "markdown",
   "metadata": {},
   "source": [
    "#### Overview of synthetic data"
   ]
  },
  {
   "cell_type": "code",
   "execution_count": null,
   "metadata": {
    "vscode": {
     "languageId": "r"
    }
   },
   "outputs": [],
   "source": [
    "descriptive_synthetic_data <- dataSynthetic$reportedKataegisFoci |> \n",
    "    filter(kataegis) |> \n",
    "    left_join(parameters, by = c(\"sampleNames\" = \"parmNames\")) |> \n",
    "    group_by(sampleNames) |> \n",
    "    mutate(\n",
    "        totalVariantsSample = sum(totalVariants)\n",
    "    ) |> \n",
    "    ungroup() |> \n",
    "    dplyr::select(!c(start, end, totalVariants)) |> \n",
    "    distinct() |> \n",
    "    group_by(nBackgroundMuts) |> \n",
    "    summarise(\n",
    "        totalVariantsTMB = sum(totalVariantsSample),\n",
    "        nKataegisFociTMB = sum(nKataegisFoci)\n",
    "    )\n",
    "\n",
    "descriptive_synthetic_data"
   ]
  },
  {
   "attachments": {},
   "cell_type": "markdown",
   "metadata": {},
   "source": [
    "##### Combine results into a dataframe and add columns needed for further analysis."
   ]
  },
  {
   "cell_type": "code",
   "execution_count": null,
   "metadata": {
    "vscode": {
     "languageId": "r"
    }
   },
   "outputs": [],
   "source": [
    "resultsSynthetic <- dplyr::bind_rows(\"Kataegis\" = resultsSyntheticAllTools$kataegis, \n",
    "                                     \"MafTools\" = resultsSyntheticAllTools$maftools, \n",
    "                                     \"SeqKat\" = resultsSyntheticAllTools$seqkat,\n",
    "                                     \"ClusteredMutations\" = resultsSyntheticAllTools$clusteredMutations,\n",
    "                                     \"Katdetectr\" = resultsSyntheticAllTools$katdetectr,\n",
    "                                     #\"Katdetectr (AMOC)\" = resultsSyntheticKatdetectrAMOC,\n",
    "                                     #\"Katdetectr (BinSeg)\" = resultsSyntheticKatdetectrBinSeg,\n",
    "                                     #\"Katdetectr (SegNeigh)\" = resultsSyntheticKatdetectrSegNeigh,\n",
    "                                     \"SigProfilerClusters\" = resultsSyntheticAllTools$sigProfilerClusters,\n",
    "                                     .id = \"package\") |> \n",
    "    # join the parameters setting used for generating the synthethic data\n",
    "    dplyr::left_join(dplyr::select(parameters, parmNames, nBackgroundMuts), by = c(\"sampleNames\" = \"parmNames\")) |> \n",
    "    # join the information of the generated kataegis foci\n",
    "    dplyr::left_join(dplyr::select(dataSynthetic$reportedKataegisFoci, sampleNames, kataegis), by = \"sampleNames\") |> \n",
    "    # remove duplicate rows\n",
    "    dplyr::distinct() |> \n",
    "    dplyr::mutate(\n",
    "        # add column which specifies if a kataegis event was detected by the method\n",
    "        detectedKataegisInSample = dplyr::if_else(is.na(.data$totalVariants), FALSE, TRUE),\n",
    "        # add column which specifies tumor mutational burden (TMB)\n",
    "        TMB = dplyr::case_when(\n",
    "            nBackgroundMuts == 25 ~ 0.1,\n",
    "            nBackgroundMuts == 125 ~ 0.5,\n",
    "            nBackgroundMuts == 249 ~ 1,\n",
    "            nBackgroundMuts == 1246 ~ 5,\n",
    "            nBackgroundMuts == 2493 ~ 10,\n",
    "            nBackgroundMuts == 12463 ~ 50,\n",
    "            nBackgroundMuts == 24925 ~ 100,\n",
    "            nBackgroundMuts == 124625 ~ 500\n",
    "        )\n",
    "    ) |> \n",
    "    # make more clear that the kataegis column only specifies if the sample contains a kataegis event\n",
    "    dplyr::rename(kataegisInSample = kataegis)\n",
    "\n",
    "resultsSynthetic"
   ]
  },
  {
   "attachments": {},
   "cell_type": "markdown",
   "metadata": {},
   "source": [
    "##### Calculate the performance of the kataegis detection tools regarding sample classification on the synthetic data set"
   ]
  },
  {
   "cell_type": "code",
   "execution_count": null,
   "metadata": {
    "vscode": {
     "languageId": "r"
    }
   },
   "outputs": [],
   "source": [
    "resultsPerSample <- resultsSynthetic |> \n",
    "    # summarise if a method detected kataegis in a sample\n",
    "    group_by(package, sampleNames, runTime) |> \n",
    "    summarise(\n",
    "        .groups = \"keep\",\n",
    "        # is a kataegis foci detected by the method\n",
    "        detectedKataegisInSample = any(detectedKataegisInSample),\n",
    "        # is there actualy a kataegis foci in that sample\n",
    "        kataegisInSample = any(kataegisInSample),\n",
    "        # Tumor mutational burden of sample\n",
    "        TMB = unique(TMB)\n",
    "    ) |> \n",
    "    ungroup() |> \n",
    "    rowwise() |> \n",
    "    # calculate confusion matrix\n",
    "    mutate(\n",
    "        TP = detectedKataegisInSample == TRUE & kataegisInSample == TRUE,\n",
    "        FP = detectedKataegisInSample == TRUE & kataegisInSample == FALSE,\n",
    "        TN = detectedKataegisInSample == FALSE & kataegisInSample == FALSE,\n",
    "        FN = detectedKataegisInSample == FALSE & kataegisInSample == TRUE\n",
    "    ) |> \n",
    "    ungroup()\n",
    "\n",
    "# performance of each package over the whole dataset\n",
    "performancePerSample <- resultsPerSample |> \n",
    "    group_by(package) |> \n",
    "    dplyr::group_modify(~ calculateMetrics(.x), .keep = TRUE) |> \n",
    "    ungroup()\n",
    "\n",
    "performancePerSampleTMB <- resultsPerSample |> \n",
    "    group_by(package, TMB) |> \n",
    "    dplyr::group_modify(~ calculateMetrics(.x), .keep = TRUE) |> \n",
    "    ungroup()\n",
    "\n",
    "resultsPerVariant <- resultsSynthetic |>\n",
    "    dplyr::group_by(package, sampleNames) |>\n",
    "    dplyr::group_modify(~ calculateConfusionVariants(.x, variantData = dataSynthetic), .keep = TRUE) |>\n",
    "    ungroup()\n",
    "\n",
    "performancePerVariant <- resultsPerVariant |> \n",
    "    group_by(package) |> \n",
    "    dplyr::group_modify(~ calculateMetrics(.x), .keep = TRUE) |> \n",
    "    ungroup()|>  \n",
    "    arrange(desc(nMCC)) |> \n",
    "    dplyr::select(package, accuracy, nMCC, F1, TPR, TNR)\n",
    "\n",
    "performancePerVariantTMB <- resultsPerVariant |> \n",
    "    group_by(package, TMB) |> \n",
    "    dplyr::group_modify(~ calculateMetrics(.x), .keep = TRUE) |> \n",
    "    ungroup()"
   ]
  },
  {
   "attachments": {},
   "cell_type": "markdown",
   "metadata": {},
   "source": [
    "#### Visualize the MMC (synthetic)"
   ]
  },
  {
   "cell_type": "code",
   "execution_count": null,
   "metadata": {
    "vscode": {
     "languageId": "r"
    }
   },
   "outputs": [],
   "source": [
    "# use package ordering from total nMCC score on the Alexandrov dataset\n",
    "levelOrderPackages <- c(\"Katdetect\", \"SeqKat\", \"MafTools\", \"SigProfilerClusters\", \"ClusteredMutations\", \"kataegis\")\n",
    "\n",
    "\n",
    "plotnMMC.Syn <- performancePerVariantTMB |> \n",
    "    ggplot2::ggplot(ggplot2::aes(x = factor(TMB), y = nMCC, group = package, colour = factor(package, levels = levelOrderPackages))) +\n",
    "    ggplot2::geom_line(size = 0.5, alpha = 0.4, lty = 11) +\n",
    "    ggplot2::geom_point(aes(y = nMCC, fill = package), col = 'black', shape = 21, lwd = 2, position = ggbeeswarm::position_quasirandom(width = .05)) +\n",
    "    ggplot2::scale_fill_manual(values = colors, guide = 'none') +\n",
    "    ggplot2::scale_color_manual(values = colors, guide = 'none') +\n",
    "    ggplot2::scale_x_discrete(labels=c(\n",
    "        \"low\" = \"Low (TMB < 0.1)<br>n = 301\", \n",
    "        \"mid\" = \"Mid (0.1 ≥ TMB < 10)<br>n = 186\",\n",
    "        \"high\" = \"High (TMB ≥ 10)<br>n = 20\")\n",
    "    ) +\n",
    "    ggplot2::ylim(0.5, 1) +\n",
    "    ggplot2::labs(x = \"TMB class\", y  = 'nMCC') +\n",
    "    theme_Job +\n",
    "    ggplot2::scale_x_discrete(labels=c(\n",
    "        \"0.1\" = \"0.1<br>n = 128\",\n",
    "        \"0.5\" = \"0.5<br>n = 128\", \n",
    "        \"1\" = \"1<br>n = 128\",\n",
    "        \"5\" = \"5<br>n = 128\",\n",
    "        \"10\" = \"10<br>n = 128\",\n",
    "        \"50\" = \"50<br>n = 128\",\n",
    "        \"100\" = \"100<br>n = 128\",\n",
    "        \"500\" = \"500<br>n = 128\")\n",
    "    )\n",
    "\n",
    "plotnMMC.Syn"
   ]
  },
  {
   "attachments": {},
   "cell_type": "markdown",
   "metadata": {},
   "source": [
    "# Heatmap of kataegis detection performance"
   ]
  },
  {
   "cell_type": "code",
   "execution_count": null,
   "metadata": {
    "vscode": {
     "languageId": "r"
    }
   },
   "outputs": [],
   "source": [
    "# facet labels\n",
    "TMB.labs <- c(\"TMB: 500\", \"TMB: 100\", \"TMB: 50\", \"TMB: 10\", \"TMB: 5\", \"TMB: 1\", \"TMB: 0.5\", \"TMB: 0.1\")\n",
    "names(TMB.labs) <- c(500, 100, 50, 10, 5, 1, 0.5, 0.1)\n",
    "\n",
    "plotPerformancePerVariantTMB <- performancePerVariantTMB |> \n",
    "    tidyr::pivot_longer(\n",
    "        cols = c(accuracy, TPR, TNR, F1, nMCC),\n",
    "        names_to = \"performanceMetric\",\n",
    "        values_to = \"value\"\n",
    "    ) |> \n",
    "    mutate(TMB = factor(TMB, levels = c(500, 100, 50, 10, 5, 1, 0.5, 0.1))) |> \n",
    "    ggplot2::ggplot(aes(y = factor(package, levels = arrange(performancePerVariant, nMCC)$package), \n",
    "                        x = factor(performanceMetric, levels = c(\"accuracy\", \"nMCC\", \"F1\", \"TPR\", \"TNR\")), \n",
    "                        label = round(value, 4), \n",
    "                        fill = value)) +\n",
    "    ggplot2::geom_tile(color = 'grey25') +\n",
    "    scale_fill_gradientn(colors = hcl.colors(20, \"RdYlGn\"), values = c(0,0.5,1)) +\n",
    "    ggplot2::ylab(\"Package\") +\n",
    "    ggplot2::xlab(\"Performance on synthetic data split on TMB\") +\n",
    "    scale_x_discrete(position = \"top\") +\n",
    "    theme(\n",
    "        axis.text.x = element_text(angle = 0, ),\n",
    "        text = ggplot2::element_text(size=5, family='Helvetica'),\n",
    "        strip.background = ggplot2::element_blank(),\n",
    "        panel.background = element_blank(),\n",
    "        legend.title = element_blank()\n",
    "    ) +\n",
    "    ggplot2::geom_text(size = 1.5, angle = 0) +\n",
    "    facet_grid(TMB ~ ., labeller = labeller(TMB = rev(TMB.labs)))\n",
    "\n",
    "colors = c('ClusteredMutations' = '#66C2A5', 'Kataegis' = '#FC8D62', 'Katdetectr' = '#8DA0CB', 'MafTools' = '#E78AC3', 'SeqKat' = '#A6D854', 'SigProfilerClusters' = '#FFD92F')\n",
    "plotRunTimes.Syn <- resultsPerSample |> \n",
    "    ggplot2::ggplot(mapping = ggplot2::aes(x = factor(package, levels = arrange(performancePerSample, meanRuntime)$package), y = runTime, fill = package)) + \n",
    "    gghalves::geom_half_point_panel(size = 1, col = 'black', shape = 21) +\n",
    "    gghalves::geom_half_boxplot(outlier.shape = NA) +\n",
    "    ggplot2::scale_fill_manual(values = colors, guide = 'none') +\n",
    "    ggplot2::scale_color_manual(values = colors, guide = 'none') +\n",
    "    ggplot2::scale_y_continuous(trans = scales::pseudo_log_trans(), breaks = c(0:5, 10, 25, 50, seq(100,500,by = 100), 1000)) +\n",
    "    ggplot2::labs(y = \"Runtime (seconds)\", x = 'Packages') +\n",
    "    ggplot2::geom_text(data = resultsPerSample %>% dplyr::group_by(package) %>% dplyr::summarise(mean = mean(runTime, na.rm = T)), ggplot2::aes(x = package, y = -.5, label = round(mean, 1)), size = 3, fontface='bold') +\n",
    "    theme_Job\n",
    "\n",
    "\n",
    "plotPerformancePerVariantTMB\n",
    "plotRunTimes.Syn"
   ]
  },
  {
   "attachments": {},
   "cell_type": "markdown",
   "metadata": {},
   "source": [
    "#### Examples (Synthetic)"
   ]
  },
  {
   "attachments": {},
   "cell_type": "markdown",
   "metadata": {},
   "source": [
    "## Session information\n"
   ]
  },
  {
   "cell_type": "code",
   "execution_count": null,
   "metadata": {
    "vscode": {
     "languageId": "r"
    }
   },
   "outputs": [],
   "source": [
    "sessionInfo()"
   ]
  }
 ],
 "metadata": {
  "kernelspec": {
   "display_name": "R",
   "language": "R",
   "name": "ir"
  },
  "language_info": {
   "codemirror_mode": "r",
   "file_extension": ".r",
   "mimetype": "text/x-r-source",
   "name": "R",
   "pygments_lexer": "r",
   "version": "4.2.3"
  },
  "orig_nbformat": 4
 },
 "nbformat": 4,
 "nbformat_minor": 2
}
